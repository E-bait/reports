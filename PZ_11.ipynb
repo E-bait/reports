{
  "nbformat": 4,
  "nbformat_minor": 0,
  "metadata": {
    "colab": {
      "name": "PZ_11.ipynb",
      "provenance": [],
      "authorship_tag": "ABX9TyNxFoqAU3fiLT9nAPbbQ7Rz",
      "include_colab_link": true
    },
    "kernelspec": {
      "name": "python3",
      "display_name": "Python 3"
    },
    "language_info": {
      "name": "python"
    }
  },
  "cells": [
    {
      "cell_type": "markdown",
      "metadata": {
        "id": "view-in-github",
        "colab_type": "text"
      },
      "source": [
        "<a href=\"https://colab.research.google.com/github/E-bait/reports/blob/main/PZ_11.ipynb\" target=\"_parent\"><img src=\"https://colab.research.google.com/assets/colab-badge.svg\" alt=\"Open In Colab\"/></a>"
      ]
    },
    {
      "cell_type": "markdown",
      "source": [
        "# PZ_3_1"
      ],
      "metadata": {
        "id": "V5uH7cGaDoOr"
      }
    },
    {
      "cell_type": "code",
      "execution_count": null,
      "metadata": {
        "colab": {
          "base_uri": "https://localhost:8080/"
        },
        "id": "ekw0SEL8AWon",
        "outputId": "cd9069a3-650a-4828-d5a6-de336a33263f"
      },
      "outputs": [
        {
          "output_type": "stream",
          "name": "stdout",
          "text": [
            "Введите трехзначное число: 100\n",
            "сотни: 1\n",
            "десятки: 0\n",
            "единицы: 0\n",
            "Цифры образуют возрастающую или убывающую последовательность:  False\n"
          ]
        }
      ],
      "source": [
        "# Вариант 23\n",
        "# Дано трехзначное число.\n",
        "# Проверить истинность высказывания: «Цифры данного числа образуют возрастающую или убывающую последовательность».\n",
        "a = input('Введите трехзначное число: ')\n",
        "b = 0\n",
        "c = 0\n",
        "d = 0\n",
        "try:                                          # Обработка исключений\n",
        "    a = int(a)\n",
        "    if 99 < a < 1000:\n",
        "        b = int(a / 100)                       # Нахождение разрядов числа\n",
        "        c = int((a - b * 100) / 10)\n",
        "        d = a % 10\n",
        "        print('сотни:', b)\n",
        "        print('десятки:', c)\n",
        "        print('единицы:', d)\n",
        "        # Нахождение последовательности\n",
        "        x = ((b < c) and (c < d) or ((b > c) and (c > d)))\n",
        "        print('Цифры образуют возрастающую или убывающую последовательность: ', x)\n",
        "    else:\n",
        "        print('Вы ввели не трехзначне число')\n",
        "except ValueError:\n",
        "    print('ЧТо-то пошло не так')"
      ]
    },
    {
      "cell_type": "markdown",
      "source": [
        "# PZ_4_1\n"
      ],
      "metadata": {
        "id": "bKuDFo32DP11"
      }
    },
    {
      "cell_type": "code",
      "source": [
        "# Вариант 23\n",
        "# Даны целые положительные числа N и K. Найти сумму 1**K + 2**К + ... + N**K.\n",
        "n = input(\"Введите целое положительное число, число последовательности: \")\n",
        "k = input(\"Введите целое положительное число, число степени: \")\n",
        "s = 0\n",
        "b = 1\n",
        "try:                                                   # Обработка исключений\n",
        "    k = int(k)\n",
        "    n = int(n)\n",
        "    if n > 0 and k > 0:                  # Проверка условия\n",
        "        while b <= n:                    # Нахождения суммы последовательности чисел\n",
        "            a = b ** k\n",
        "            b += 1\n",
        "            s += a\n",
        "        print(\"Сумма чисел равна: {0}\".format(s))\n",
        "    else:\n",
        "        print('Что-то пошло не так')\n",
        "except ValueError:\n",
        "    print('Что-то пошло не так')\n"
      ],
      "metadata": {
        "id": "fTL5OBC_D3Qr",
        "colab": {
          "base_uri": "https://localhost:8080/"
        },
        "outputId": "131742fe-d2d6-4756-8f22-5ef03bc3d52a"
      },
      "execution_count": 1,
      "outputs": [
        {
          "output_type": "stream",
          "name": "stdout",
          "text": [
            "Введите целое положительное число, число последовательности: 5\n",
            "Введите целое положительное число, число степени: 2\n",
            "Сумма чисел равна: 55\n"
          ]
        }
      ]
    },
    {
      "cell_type": "markdown",
      "source": [
        "# PZ_5_1"
      ],
      "metadata": {
        "id": "3_H5a4PCD8Jj"
      }
    },
    {
      "cell_type": "code",
      "source": [
        "# Вариает 23\n",
        "# С помощью функций получить вертикальную и горизонтальную линии.\n",
        "# Линия проводится многократной печатью символа. Заключить слово в рамку из полученных линий.\n",
        "def pamka(v, g):\n",
        "    width = v\n",
        "    word = g\n",
        "    return width, word\n",
        "\n",
        "\n",
        "w = (input('Width: '))\n",
        "s = input('word: ')\n",
        "G_t, T_g = pamka(w, s)          # Присваевываем значения в функцию\n",
        "\n",
        "try:\n",
        "    w = int(w)\n",
        "    if len(s) < w:                                                  # Проверка соотношения длины линии и длины слова\n",
        "        print(f\"{'*' * w}\\n*{s.center(w - 2)}*\\n{'*' * w}\")\n",
        "    else:\n",
        "        while len(s) >= w:\n",
        "            w += 1\n",
        "        print(f\"{'*' * (w + 1)}\\n*{s.center(w - 2)}*\\n{'*' * (w + 1)}\")\n",
        "except ValueError:\n",
        "    print('Что-то пошло не так,попробуйте ввести ширину используя целые числа')\n"
      ],
      "metadata": {
        "colab": {
          "base_uri": "https://localhost:8080/"
        },
        "id": "cJ8RzmuxEA_s",
        "outputId": "d58c414b-cb89-4a75-e4c2-2387d0dc0abf"
      },
      "execution_count": null,
      "outputs": [
        {
          "output_type": "stream",
          "name": "stdout",
          "text": [
            "Width: 100\n",
            "word: qwerty\n",
            "****************************************************************************************************\n",
            "*                                              qwerty                                              *\n",
            "****************************************************************************************************\n"
          ]
        }
      ]
    }
  ]
}